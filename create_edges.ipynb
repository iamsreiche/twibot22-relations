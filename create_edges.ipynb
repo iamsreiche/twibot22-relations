{
 "cells": [
  {
   "cell_type": "code",
   "execution_count": 1,
   "id": "3351d2e6-8acf-41fa-a5e1-a6ac8add7265",
   "metadata": {},
   "outputs": [],
   "source": [
    "import json\n",
    "import torch\n",
    "import pandas as pd\n",
    "from pathlib import Path\n",
    "from tqdm import tqdm"
   ]
  },
  {
   "cell_type": "code",
   "execution_count": 2,
   "id": "ca6d4aa7-764d-4763-bbad-b3360e242c35",
   "metadata": {},
   "outputs": [],
   "source": [
    "DATA_DIR = Path('/data/University/TwiBot-22')\n",
    "USER_DIR = DATA_DIR / 'processed' / 'users'\n",
    "IN_DIR = DATA_DIR / 'processed' / 'derived' / 'combined'\n",
    "OUT_DIR = DATA_DIR / \"processed\" / 'embeddings' / \"edges\""
   ]
  },
  {
   "cell_type": "code",
   "execution_count": 3,
   "id": "c988ad30-db1e-4115-865f-3593c80102ac",
   "metadata": {},
   "outputs": [],
   "source": [
    "edge_file = next(f for f in IN_DIR.glob(\"*.csv\"))\n",
    "edge = pd.read_csv(edge_file)"
   ]
  },
  {
   "cell_type": "markdown",
   "id": "1676883a-949c-4635-969f-f157c78ccb94",
   "metadata": {},
   "source": [
    "### Create user and relation index mapping"
   ]
  },
  {
   "cell_type": "code",
   "execution_count": 4,
   "id": "aa2726bf-32c2-40f4-9a0e-c20c5f6df08c",
   "metadata": {},
   "outputs": [
    {
     "name": "stdout",
     "output_type": "stream",
     "text": [
      "-- followers: 1116655\n",
      "-- following: 2626979\n",
      "-- retweeted_user: 657383\n",
      "-- co_retweeted: 251544\n",
      "-- co_hashtag: 6954818\n"
     ]
    }
   ],
   "source": [
    "for rel in edge[\"relation\"].unique():\n",
    "    edge_rel = edge.loc[edge[\"relation\"] == rel].drop_duplicates()\n",
    "    print(f\"-- {rel}: {edge_rel.shape[0]}\")"
   ]
  },
  {
   "cell_type": "code",
   "execution_count": 5,
   "id": "e02c695c-c804-4ab9-8663-1a7ca59c808e",
   "metadata": {},
   "outputs": [],
   "source": [
    "user = pd.read_json(DATA_DIR / 'original' / 'user.json') \n",
    "uid_index = {uid:index for index,uid in enumerate(user['id'].values)}"
   ]
  },
  {
   "cell_type": "code",
   "execution_count": 6,
   "id": "0df75b9c-fe45-4994-8c5b-cd2cba1fc269",
   "metadata": {},
   "outputs": [
    {
     "data": {
      "text/plain": [
       "{'co_hashtag': 0,\n",
       " 'co_retweeted': 1,\n",
       " 'followers': 2,\n",
       " 'following': 3,\n",
       " 'retweeted_user': 4}"
      ]
     },
     "execution_count": 6,
     "metadata": {},
     "output_type": "execute_result"
    }
   ],
   "source": [
    "relation_map = {rel: i for i, rel in enumerate(sorted(edge[\"relation\"].unique()))}\n",
    "relation_map"
   ]
  },
  {
   "cell_type": "markdown",
   "id": "1ec9e778-362f-4b3e-a27c-b1f1157bdb2a",
   "metadata": {},
   "source": [
    "### Extracting edge index and type."
   ]
  },
  {
   "cell_type": "code",
   "execution_count": 7,
   "id": "f01368d0-490f-410a-8378-22b8d1566ea7",
   "metadata": {},
   "outputs": [
    {
     "name": "stderr",
     "output_type": "stream",
     "text": [
      "100%|█████████████████████████████████████████████████████████████████████████████| 12530639/12530639 [01:26<00:00, 144453.25it/s]\n"
     ]
    }
   ],
   "source": [
    "edge_index = []\n",
    "edge_type = []\n",
    "for i in tqdm(range(len(edge))):\n",
    "    sid = edge['source_id'][i]\n",
    "    tid = edge['target_id'][i]\n",
    "    relation = edge['relation'][i]\n",
    "    try:\n",
    "        edge_index.append([uid_index[sid],uid_index[tid]])\n",
    "        edge_type.append(relation_map[relation])\n",
    "    except KeyError:\n",
    "        raise "
   ]
  },
  {
   "cell_type": "markdown",
   "id": "910d6502-34b8-41c5-b0e0-0b88860f1d24",
   "metadata": {},
   "source": [
    "### Save edge index and type"
   ]
  },
  {
   "cell_type": "code",
   "execution_count": 8,
   "id": "5ad82b32-fa89-4b54-bd93-b1e8dcc04523",
   "metadata": {},
   "outputs": [],
   "source": [
    "torch.save(torch.LongTensor(edge_index).t().contiguous(), OUT_DIR / f\"edge_index.pt\")\n",
    "torch.save(torch.LongTensor(edge_type), OUT_DIR / f\"edge_type.pt\")"
   ]
  }
 ],
 "metadata": {
  "kernelspec": {
   "display_name": "Python 3 (ipykernel)",
   "language": "python",
   "name": "python3"
  },
  "language_info": {
   "codemirror_mode": {
    "name": "ipython",
    "version": 3
   },
   "file_extension": ".py",
   "mimetype": "text/x-python",
   "name": "python",
   "nbconvert_exporter": "python",
   "pygments_lexer": "ipython3",
   "version": "3.10.12"
  }
 },
 "nbformat": 4,
 "nbformat_minor": 5
}
